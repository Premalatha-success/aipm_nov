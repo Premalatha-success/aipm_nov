{
  "cells": [
    {
      "cell_type": "code",
      "execution_count": 20,
      "id": "17cd71cf-da79-42be-99e8-5abfea7f09d8",
      "metadata": {
        "id": "17cd71cf-da79-42be-99e8-5abfea7f09d8",
        "colab": {
          "base_uri": "https://localhost:8080/"
        },
        "outputId": "8fb1a355-98e5-4ac6-a7ed-850d00393219"
      },
      "outputs": [
        {
          "output_type": "stream",
          "name": "stdout",
          "text": [
            "Requirement already satisfied: dash in /usr/local/lib/python3.10/dist-packages (2.18.2)\n",
            "Requirement already satisfied: Flask<3.1,>=1.0.4 in /usr/local/lib/python3.10/dist-packages (from dash) (2.2.5)\n",
            "Requirement already satisfied: Werkzeug<3.1 in /usr/local/lib/python3.10/dist-packages (from dash) (3.0.6)\n",
            "Requirement already satisfied: plotly>=5.0.0 in /usr/local/lib/python3.10/dist-packages (from dash) (5.24.1)\n",
            "Requirement already satisfied: dash-html-components==2.0.0 in /usr/local/lib/python3.10/dist-packages (from dash) (2.0.0)\n",
            "Requirement already satisfied: dash-core-components==2.0.0 in /usr/local/lib/python3.10/dist-packages (from dash) (2.0.0)\n",
            "Requirement already satisfied: dash-table==5.0.0 in /usr/local/lib/python3.10/dist-packages (from dash) (5.0.0)\n",
            "Requirement already satisfied: importlib-metadata in /usr/local/lib/python3.10/dist-packages (from dash) (8.5.0)\n",
            "Requirement already satisfied: typing-extensions>=4.1.1 in /usr/local/lib/python3.10/dist-packages (from dash) (4.12.2)\n",
            "Requirement already satisfied: requests in /usr/local/lib/python3.10/dist-packages (from dash) (2.32.3)\n",
            "Requirement already satisfied: retrying in /usr/local/lib/python3.10/dist-packages (from dash) (1.3.4)\n",
            "Requirement already satisfied: nest-asyncio in /usr/local/lib/python3.10/dist-packages (from dash) (1.6.0)\n",
            "Requirement already satisfied: setuptools in /usr/local/lib/python3.10/dist-packages (from dash) (75.1.0)\n",
            "Requirement already satisfied: Jinja2>=3.0 in /usr/local/lib/python3.10/dist-packages (from Flask<3.1,>=1.0.4->dash) (3.1.4)\n",
            "Requirement already satisfied: itsdangerous>=2.0 in /usr/local/lib/python3.10/dist-packages (from Flask<3.1,>=1.0.4->dash) (2.2.0)\n",
            "Requirement already satisfied: click>=8.0 in /usr/local/lib/python3.10/dist-packages (from Flask<3.1,>=1.0.4->dash) (8.1.7)\n",
            "Requirement already satisfied: tenacity>=6.2.0 in /usr/local/lib/python3.10/dist-packages (from plotly>=5.0.0->dash) (9.0.0)\n",
            "Requirement already satisfied: packaging in /usr/local/lib/python3.10/dist-packages (from plotly>=5.0.0->dash) (24.1)\n",
            "Requirement already satisfied: MarkupSafe>=2.1.1 in /usr/local/lib/python3.10/dist-packages (from Werkzeug<3.1->dash) (3.0.2)\n",
            "Requirement already satisfied: zipp>=3.20 in /usr/local/lib/python3.10/dist-packages (from importlib-metadata->dash) (3.20.2)\n",
            "Requirement already satisfied: charset-normalizer<4,>=2 in /usr/local/lib/python3.10/dist-packages (from requests->dash) (3.4.0)\n",
            "Requirement already satisfied: idna<4,>=2.5 in /usr/local/lib/python3.10/dist-packages (from requests->dash) (3.10)\n",
            "Requirement already satisfied: urllib3<3,>=1.21.1 in /usr/local/lib/python3.10/dist-packages (from requests->dash) (2.2.3)\n",
            "Requirement already satisfied: certifi>=2017.4.17 in /usr/local/lib/python3.10/dist-packages (from requests->dash) (2024.8.30)\n",
            "Requirement already satisfied: six>=1.7.0 in /usr/local/lib/python3.10/dist-packages (from retrying->dash) (1.16.0)\n"
          ]
        }
      ],
      "source": [
        "pip install dash"
      ]
    },
    {
      "cell_type": "code",
      "source": [
        "import pandas as pd\n",
        "import dash\n",
        "import dash_core_components as dcc\n",
        "import dash_html_components as html\n",
        "from dash.dependencies import Input, Output\n",
        "import warnings\n",
        "warnings.filterwarnings(\"ignore\")"
      ],
      "metadata": {
        "id": "UJ82iAEVMASo"
      },
      "id": "UJ82iAEVMASo",
      "execution_count": 21,
      "outputs": []
    },
    {
      "cell_type": "code",
      "source": [
        "# Load the dataset\n",
        "df = pd.read_csv(\"/content/CardioGoodFitness-1 (1).csv\")"
      ],
      "metadata": {
        "id": "jh6FlH7VMEMv"
      },
      "id": "jh6FlH7VMEMv",
      "execution_count": 22,
      "outputs": []
    },
    {
      "cell_type": "code",
      "execution_count": 23,
      "id": "0d9f2e36-a4bd-446d-b45c-a8d31c2ef9d1",
      "metadata": {
        "colab": {
          "base_uri": "https://localhost:8080/",
          "height": 671
        },
        "id": "0d9f2e36-a4bd-446d-b45c-a8d31c2ef9d1",
        "outputId": "5fa44c7b-9d24-4345-b642-c0f806b77a35"
      },
      "outputs": [
        {
          "output_type": "display_data",
          "data": {
            "text/plain": [
              "<IPython.core.display.Javascript object>"
            ],
            "application/javascript": [
              "(async (port, path, width, height, cache, element) => {\n",
              "    if (!google.colab.kernel.accessAllowed && !cache) {\n",
              "      return;\n",
              "    }\n",
              "    element.appendChild(document.createTextNode(''));\n",
              "    const url = await google.colab.kernel.proxyPort(port, {cache});\n",
              "    const iframe = document.createElement('iframe');\n",
              "    iframe.src = new URL(path, url).toString();\n",
              "    iframe.height = height;\n",
              "    iframe.width = width;\n",
              "    iframe.style.border = 0;\n",
              "    iframe.allow = [\n",
              "        'accelerometer',\n",
              "        'autoplay',\n",
              "        'camera',\n",
              "        'clipboard-read',\n",
              "        'clipboard-write',\n",
              "        'gyroscope',\n",
              "        'magnetometer',\n",
              "        'microphone',\n",
              "        'serial',\n",
              "        'usb',\n",
              "        'xr-spatial-tracking',\n",
              "    ].join('; ');\n",
              "    element.appendChild(iframe);\n",
              "  })(8050, \"/\", \"100%\", 650, false, window.element)"
            ]
          },
          "metadata": {}
        }
      ],
      "source": [
        "import pandas as pd\n",
        "import dash\n",
        "import dash_core_components as dcc\n",
        "import dash_html_components as html\n",
        "from dash.dependencies import Input, Output\n",
        "import dash_table\n",
        "\n",
        "# Load the dataset\n",
        "df = pd.read_csv(\"/content/CardioGoodFitness-1 (1).csv\")\n",
        "\n",
        "# Initialize the Dash app\n",
        "app = dash.Dash(__name__)\n",
        "\n",
        "# Define available features for dropdown options\n",
        "available_features = df.columns\n",
        "\n",
        "# Define the layout of the dashboard\n",
        "app.layout = html.Div(style={'backgroundColor': '#000000', 'color': '#ffffff'}, children=[\n",
        "    html.H1(style={'textAlign': 'center'}, children='CardioGoodness Dashboard'),\n",
        "\n",
        "    dcc.Dropdown(\n",
        "        id='dropdown-x1',\n",
        "        options=[{'label': i, 'value': i} for i in available_features],\n",
        "        value='Age',\n",
        "        style={'backgroundColor': '#ffff00', 'color': '#000000'}\n",
        "    ),\n",
        "    dcc.Dropdown(\n",
        "        id='dropdown-y1',\n",
        "        options=[{'label': i, 'value': i} for i in available_features],\n",
        "        value='Income',\n",
        "        style={'backgroundColor': '#ffff00', 'color': '#000000'}\n",
        "    ),\n",
        "    dcc.Graph(id='scatter-plot1'),\n",
        "\n",
        "    dcc.Dropdown(\n",
        "        id='dropdown-x2',\n",
        "        options=[{'label': i, 'value': i} for i in available_features],\n",
        "        value='Age',\n",
        "        style={'backgroundColor': '#ffff00', 'color': '#000000'}\n",
        "    ),\n",
        "    dcc.Dropdown(\n",
        "        id='dropdown-y2',\n",
        "        options=[{'label': i, 'value': i} for i in available_features],\n",
        "        value='Fitness',\n",
        "        style={'backgroundColor': '#ffff00', 'color': '#000000'}\n",
        "    ),\n",
        "    dcc.Graph(id='scatter-plot2'),\n",
        "\n",
        "    html.Hr(style={'borderColor': '#999999'}),  # Add a horizontal line for separation\n",
        "\n",
        "    html.Label(style={'textAlign': 'center'}, children='Filter Data:'),\n",
        "    dcc.RangeSlider(\n",
        "        id='range-slider',\n",
        "        min=df['Age'].min(),\n",
        "        max=df['Age'].max(),\n",
        "        value=[df['Age'].min(), df['Age'].max()],\n",
        "        marks={str(age): str(age) for age in range(df['Age'].min(), df['Age'].max()+1, 5)},\n",
        "        step=1,\n",
        "        included=False,\n",
        "        pushable=1,\n",
        "        tooltip={'always_visible': False}\n",
        "    ),\n",
        "    html.Br(),  # Add a line break\n",
        "\n",
        "    dash_table.DataTable(\n",
        "        id='table',\n",
        "        columns=[{\"name\": i, \"id\": i} for i in df.columns],\n",
        "        data=df.to_dict('records'),\n",
        "        style_table={'backgroundColor': '#000000'},\n",
        "        style_header={'backgroundColor': '#333333', 'color': '#ffffff'},\n",
        "        style_cell={'backgroundColor': '#333333', 'color': '#ffffff', 'textAlign': 'left'}\n",
        "    )\n",
        "])\n",
        "\n",
        "# Define callback to update the first scatter plot based on dropdown selections\n",
        "@app.callback(\n",
        "    Output('scatter-plot1', 'figure'),\n",
        "    [Input('dropdown-x1', 'value'),\n",
        "     Input('dropdown-y1', 'value'),\n",
        "     Input('range-slider', 'value')]\n",
        ")\n",
        "def update_graph1(selected_x, selected_y, age_range):\n",
        "    filtered_df = df[(df['Age'] >= age_range[0]) & (df['Age'] <= age_range[1])]\n",
        "    return {\n",
        "        'data': [{\n",
        "            'x': filtered_df[selected_x],\n",
        "            'y': filtered_df[selected_y],\n",
        "            'type': 'scatter',\n",
        "            'mode': 'markers',\n",
        "            'marker': {'size': 10, 'color': '#ffffff'}\n",
        "        }],\n",
        "        'layout': {\n",
        "            'xaxis': {'title': selected_x, 'color': '#ffffff'},\n",
        "            'yaxis': {'title': selected_y, 'color': '#ffffff'},\n",
        "            'title': f'{selected_x} vs {selected_y}',\n",
        "            'plot_bgcolor': '#000000',  # Plot background color\n",
        "            'paper_bgcolor': '#000000'  # Paper background color\n",
        "        }\n",
        "    }\n",
        "\n",
        "# Define callback to update the second scatter plot based on dropdown selections\n",
        "@app.callback(\n",
        "    Output('scatter-plot2', 'figure'),\n",
        "    [Input('dropdown-x2', 'value'),\n",
        "     Input('dropdown-y2', 'value'),\n",
        "     Input('range-slider', 'value')]\n",
        ")\n",
        "def update_graph2(selected_x, selected_y, age_range):\n",
        "    filtered_df = df[(df['Age'] >= age_range[0]) & (df['Age'] <= age_range[1])]\n",
        "    return {\n",
        "        'data': [{\n",
        "            'x': filtered_df[selected_x],\n",
        "            'y': filtered_df[selected_y],\n",
        "            'type': 'scatter',\n",
        "            'mode': 'markers',\n",
        "            'marker': {'size': 10, 'color': '#ffffff'}\n",
        "        }],\n",
        "        'layout': {\n",
        "            'xaxis': {'title': selected_x, 'color': '#ffffff'},\n",
        "            'yaxis': {'title': selected_y, 'color': '#ffffff'},\n",
        "            'title': f'{selected_x} vs {selected_y}',\n",
        "            'plot_bgcolor': '#000000',  # Plot background color\n",
        "            'paper_bgcolor': '#000000'  # Paper background color\n",
        "        }\n",
        "    }\n",
        "\n",
        "# Run the Dash app\n",
        "if __name__ == '__main__':\n",
        "    app.run_server(debug=True)\n"
      ]
    },
    {
      "cell_type": "code",
      "source": [],
      "metadata": {
        "id": "5EE9dbQauHXn"
      },
      "id": "5EE9dbQauHXn",
      "execution_count": 23,
      "outputs": []
    }
  ],
  "metadata": {
    "kernelspec": {
      "display_name": "Python 3 (ipykernel)",
      "language": "python",
      "name": "python3"
    },
    "language_info": {
      "codemirror_mode": {
        "name": "ipython",
        "version": 3
      },
      "file_extension": ".py",
      "mimetype": "text/x-python",
      "name": "python",
      "nbconvert_exporter": "python",
      "pygments_lexer": "ipython3",
      "version": "3.11.7"
    },
    "colab": {
      "provenance": []
    }
  },
  "nbformat": 4,
  "nbformat_minor": 5
}